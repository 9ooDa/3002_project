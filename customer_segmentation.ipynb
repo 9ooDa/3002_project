{
 "cells": [
  {
   "cell_type": "code",
   "execution_count": 258,
   "id": "c2812530-ae73-446d-8823-d09f2f9e1233",
   "metadata": {},
   "outputs": [],
   "source": [
    "import pandas as pd\n",
    "from sklearn.tree import DecisionTreeClassifier, DecisionTreeRegressor\n",
    "import category_encoders as ce\n",
    "import matplotlib.pyplot as plt\n",
    "from sklearn.decomposition import PCA\n",
    "from sklearn import preprocessing, decomposition"
   ]
  },
  {
   "cell_type": "code",
   "execution_count": 203,
   "id": "b9ae5373-7b2f-4a3a-bb27-06b97ded5865",
   "metadata": {},
   "outputs": [
    {
     "name": "stdout",
     "output_type": "stream",
     "text": [
      "          ID  Gender Ever_Married  Age Graduated     Profession  \\\n",
      "0     462809    Male           No   22        No     Healthcare   \n",
      "1     462643  Female          Yes   38       Yes       Engineer   \n",
      "2     466315  Female          Yes   67       Yes       Engineer   \n",
      "3     461735    Male          Yes   67       Yes         Lawyer   \n",
      "4     462669  Female          Yes   40       Yes  Entertainment   \n",
      "...      ...     ...          ...  ...       ...            ...   \n",
      "8063  464018    Male           No   22        No            NaN   \n",
      "8064  464685    Male           No   35        No      Executive   \n",
      "8065  465406  Female           No   33       Yes     Healthcare   \n",
      "8066  467299  Female           No   27       Yes     Healthcare   \n",
      "8067  461879    Male          Yes   37       Yes      Executive   \n",
      "\n",
      "      Work_Experience Spending_Score  Family_Size  Var_1 Segmentation  \n",
      "0                 1.0            Low          4.0  Cat_4            D  \n",
      "1                 NaN        Average          3.0  Cat_4            A  \n",
      "2                 1.0            Low          1.0  Cat_6            B  \n",
      "3                 0.0           High          2.0  Cat_6            B  \n",
      "4                 NaN           High          6.0  Cat_6            A  \n",
      "...               ...            ...          ...    ...          ...  \n",
      "8063              0.0            Low          7.0  Cat_1            D  \n",
      "8064              3.0            Low          4.0  Cat_4            D  \n",
      "8065              1.0            Low          1.0  Cat_6            D  \n",
      "8066              1.0            Low          4.0  Cat_6            B  \n",
      "8067              0.0        Average          3.0  Cat_4            B  \n",
      "\n",
      "[8068 rows x 11 columns]\n"
     ]
    }
   ],
   "source": [
    "df = pd.read_csv('Train.csv')\n",
    "print(df)"
   ]
  },
  {
   "cell_type": "code",
   "execution_count": 204,
   "id": "7b42ca57-74ba-4f2e-b279-0a09d6d258e2",
   "metadata": {},
   "outputs": [
    {
     "data": {
      "text/plain": [
       "ID                  0.000000\n",
       "Gender              0.000000\n",
       "Ever_Married        1.735250\n",
       "Age                 0.000000\n",
       "Graduated           0.966782\n",
       "Profession          1.536936\n",
       "Work_Experience    10.275161\n",
       "Spending_Score      0.000000\n",
       "Family_Size         4.152206\n",
       "Var_1               0.941993\n",
       "Segmentation        0.000000\n",
       "dtype: float64"
      ]
     },
     "execution_count": 204,
     "metadata": {},
     "output_type": "execute_result"
    }
   ],
   "source": [
    "# 전체 data 개수 대비 NaN의 비율\n",
    "\n",
    "(df.isnull().sum() / len(df)) * 100"
   ]
  },
  {
   "cell_type": "code",
   "execution_count": 205,
   "id": "448873f2-d91e-4b9d-b418-b9509e016cdd",
   "metadata": {},
   "outputs": [
    {
     "name": "stdout",
     "output_type": "stream",
     "text": [
      "Column Gender unique values ['Male' 'Female']\n",
      "Column Ever_Married unique values ['No' 'Yes' nan]\n",
      "Column Age unique values [22 38 67 40 56 32 33 61 55 26 19 70 58 41 31 79 49 18 36 35 45 42 83 27\n",
      " 28 47 29 57 76 25 72 48 74 59 39 51 30 63 52 60 68 86 50 43 80 37 46 69\n",
      " 78 71 82 23 20 85 21 53 62 75 65 89 66 73 77 87 84 81 88]\n",
      "Column Graduated unique values ['No' 'Yes' nan]\n",
      "Column Profession unique values ['Healthcare' 'Engineer' 'Lawyer' 'Entertainment' 'Artist' 'Executive'\n",
      " 'Doctor' 'Homemaker' 'Marketing' nan]\n",
      "Column Work_Experience unique values [ 1. nan  0.  4.  9. 12.  3. 13.  5.  8. 14.  7.  2.  6. 10. 11.]\n",
      "Column Spending_Score unique values ['Low' 'Average' 'High']\n",
      "Column Family_Size unique values [ 4.  3.  1.  2.  6. nan  5.  8.  7.  9.]\n",
      "Column Var_1 unique values ['Cat_4' 'Cat_6' 'Cat_7' 'Cat_3' 'Cat_1' 'Cat_2' nan 'Cat_5']\n"
     ]
    }
   ],
   "source": [
    "for i in ['Gender' , 'Ever_Married' , 'Age','Graduated','Profession','Work_Experience','Spending_Score','Family_Size','Var_1'  ]:\n",
    "    print(f\"Column {i} unique values {df[i].unique()}\")"
   ]
  },
  {
   "cell_type": "code",
   "execution_count": 206,
   "id": "32e8d7d8-5576-43ac-ad6a-1fcefc7edb1a",
   "metadata": {},
   "outputs": [],
   "source": [
    "# replace blank values with mode \n",
    "for column in df.columns:\n",
    "    df[column].fillna(df[column].mode()[0], inplace=True)"
   ]
  },
  {
   "cell_type": "code",
   "execution_count": 212,
   "id": "b27d52ba-710c-41df-b8e3-d3dd4de27d9e",
   "metadata": {},
   "outputs": [
    {
     "data": {
      "text/html": [
       "<div>\n",
       "<style scoped>\n",
       "    .dataframe tbody tr th:only-of-type {\n",
       "        vertical-align: middle;\n",
       "    }\n",
       "\n",
       "    .dataframe tbody tr th {\n",
       "        vertical-align: top;\n",
       "    }\n",
       "\n",
       "    .dataframe thead th {\n",
       "        text-align: right;\n",
       "    }\n",
       "</style>\n",
       "<table border=\"1\" class=\"dataframe\">\n",
       "  <thead>\n",
       "    <tr style=\"text-align: right;\">\n",
       "      <th></th>\n",
       "      <th>ID</th>\n",
       "      <th>Gender</th>\n",
       "      <th>Ever_Married</th>\n",
       "      <th>Age</th>\n",
       "      <th>Graduated</th>\n",
       "      <th>Profession</th>\n",
       "      <th>Work_Experience</th>\n",
       "      <th>Spending_Score</th>\n",
       "      <th>Family_Size</th>\n",
       "      <th>Var_1</th>\n",
       "      <th>Segmentation</th>\n",
       "    </tr>\n",
       "  </thead>\n",
       "  <tbody>\n",
       "    <tr>\n",
       "      <th>0</th>\n",
       "      <td>462809</td>\n",
       "      <td>1</td>\n",
       "      <td>1</td>\n",
       "      <td>1</td>\n",
       "      <td>1</td>\n",
       "      <td>1</td>\n",
       "      <td>1</td>\n",
       "      <td>1</td>\n",
       "      <td>1</td>\n",
       "      <td>1</td>\n",
       "      <td>1</td>\n",
       "    </tr>\n",
       "    <tr>\n",
       "      <th>1</th>\n",
       "      <td>462643</td>\n",
       "      <td>2</td>\n",
       "      <td>2</td>\n",
       "      <td>2</td>\n",
       "      <td>2</td>\n",
       "      <td>2</td>\n",
       "      <td>1</td>\n",
       "      <td>2</td>\n",
       "      <td>2</td>\n",
       "      <td>1</td>\n",
       "      <td>2</td>\n",
       "    </tr>\n",
       "    <tr>\n",
       "      <th>2</th>\n",
       "      <td>466315</td>\n",
       "      <td>2</td>\n",
       "      <td>2</td>\n",
       "      <td>3</td>\n",
       "      <td>2</td>\n",
       "      <td>2</td>\n",
       "      <td>1</td>\n",
       "      <td>1</td>\n",
       "      <td>3</td>\n",
       "      <td>2</td>\n",
       "      <td>3</td>\n",
       "    </tr>\n",
       "    <tr>\n",
       "      <th>3</th>\n",
       "      <td>461735</td>\n",
       "      <td>1</td>\n",
       "      <td>2</td>\n",
       "      <td>3</td>\n",
       "      <td>2</td>\n",
       "      <td>3</td>\n",
       "      <td>2</td>\n",
       "      <td>3</td>\n",
       "      <td>4</td>\n",
       "      <td>2</td>\n",
       "      <td>3</td>\n",
       "    </tr>\n",
       "    <tr>\n",
       "      <th>4</th>\n",
       "      <td>462669</td>\n",
       "      <td>2</td>\n",
       "      <td>2</td>\n",
       "      <td>4</td>\n",
       "      <td>2</td>\n",
       "      <td>4</td>\n",
       "      <td>1</td>\n",
       "      <td>3</td>\n",
       "      <td>5</td>\n",
       "      <td>2</td>\n",
       "      <td>2</td>\n",
       "    </tr>\n",
       "  </tbody>\n",
       "</table>\n",
       "</div>"
      ],
      "text/plain": [
       "       ID  Gender  Ever_Married  Age  Graduated  Profession  Work_Experience  \\\n",
       "0  462809       1             1    1          1           1                1   \n",
       "1  462643       2             2    2          2           2                1   \n",
       "2  466315       2             2    3          2           2                1   \n",
       "3  461735       1             2    3          2           3                2   \n",
       "4  462669       2             2    4          2           4                1   \n",
       "\n",
       "   Spending_Score  Family_Size  Var_1  Segmentation  \n",
       "0               1            1      1             1  \n",
       "1               2            2      1             2  \n",
       "2               1            3      2             3  \n",
       "3               3            4      2             3  \n",
       "4               3            5      2             2  "
      ]
     },
     "execution_count": 212,
     "metadata": {},
     "output_type": "execute_result"
    }
   ],
   "source": [
    "# encode variables with ordinal encoding\n",
    "encoder = ce.OrdinalEncoder(cols=['Gender','Ever_Married','Graduated','Age','Profession','Work_Experience','Spending_Score','Family_Size','Var_1','Segmentation'])\n",
    "\n",
    "df = encoder.fit_transform(df)\n",
    "\n",
    "df.head()"
   ]
  },
  {
   "cell_type": "code",
   "execution_count": 213,
   "id": "7ccbd467-acc5-474b-a960-9eb450b7b203",
   "metadata": {},
   "outputs": [],
   "source": [
    "from sklearn.preprocessing import MinMaxScaler\n",
    "\n",
    "\n",
    "scaler = MinMaxScaler()\n",
    "columns_to_normalize = ['Age','Profession','Work_Experience','Spending_Score','Family_Size','Var_1']\n",
    "\n",
    "df[columns_to_normalize] = scaler.fit_transform(df[columns_to_normalize])\n"
   ]
  },
  {
   "cell_type": "code",
   "execution_count": 214,
   "id": "ee102da6-5727-4c6a-ac42-7c379608fe5d",
   "metadata": {},
   "outputs": [
    {
     "data": {
      "text/html": [
       "<div>\n",
       "<style scoped>\n",
       "    .dataframe tbody tr th:only-of-type {\n",
       "        vertical-align: middle;\n",
       "    }\n",
       "\n",
       "    .dataframe tbody tr th {\n",
       "        vertical-align: top;\n",
       "    }\n",
       "\n",
       "    .dataframe thead th {\n",
       "        text-align: right;\n",
       "    }\n",
       "</style>\n",
       "<table border=\"1\" class=\"dataframe\">\n",
       "  <thead>\n",
       "    <tr style=\"text-align: right;\">\n",
       "      <th></th>\n",
       "      <th>Gender</th>\n",
       "      <th>Ever_Married</th>\n",
       "      <th>Age</th>\n",
       "      <th>Graduated</th>\n",
       "      <th>Profession</th>\n",
       "      <th>Work_Experience</th>\n",
       "      <th>Spending_Score</th>\n",
       "      <th>Family_Size</th>\n",
       "      <th>Var_1</th>\n",
       "    </tr>\n",
       "  </thead>\n",
       "  <tbody>\n",
       "    <tr>\n",
       "      <th>5015</th>\n",
       "      <td>1</td>\n",
       "      <td>2</td>\n",
       "      <td>0.242424</td>\n",
       "      <td>2</td>\n",
       "      <td>0.375</td>\n",
       "      <td>0.000000</td>\n",
       "      <td>0.0</td>\n",
       "      <td>0.375</td>\n",
       "      <td>0.166667</td>\n",
       "    </tr>\n",
       "    <tr>\n",
       "      <th>5755</th>\n",
       "      <td>1</td>\n",
       "      <td>2</td>\n",
       "      <td>0.954545</td>\n",
       "      <td>2</td>\n",
       "      <td>0.250</td>\n",
       "      <td>0.071429</td>\n",
       "      <td>1.0</td>\n",
       "      <td>0.375</td>\n",
       "      <td>0.166667</td>\n",
       "    </tr>\n",
       "    <tr>\n",
       "      <th>7781</th>\n",
       "      <td>2</td>\n",
       "      <td>1</td>\n",
       "      <td>0.363636</td>\n",
       "      <td>2</td>\n",
       "      <td>0.000</td>\n",
       "      <td>0.571429</td>\n",
       "      <td>0.0</td>\n",
       "      <td>0.125</td>\n",
       "      <td>0.166667</td>\n",
       "    </tr>\n",
       "    <tr>\n",
       "      <th>4518</th>\n",
       "      <td>2</td>\n",
       "      <td>2</td>\n",
       "      <td>0.515152</td>\n",
       "      <td>2</td>\n",
       "      <td>0.875</td>\n",
       "      <td>0.000000</td>\n",
       "      <td>0.0</td>\n",
       "      <td>0.250</td>\n",
       "      <td>0.500000</td>\n",
       "    </tr>\n",
       "    <tr>\n",
       "      <th>6195</th>\n",
       "      <td>1</td>\n",
       "      <td>1</td>\n",
       "      <td>0.151515</td>\n",
       "      <td>1</td>\n",
       "      <td>0.000</td>\n",
       "      <td>0.000000</td>\n",
       "      <td>0.0</td>\n",
       "      <td>0.500</td>\n",
       "      <td>0.000000</td>\n",
       "    </tr>\n",
       "  </tbody>\n",
       "</table>\n",
       "</div>"
      ],
      "text/plain": [
       "      Gender  Ever_Married       Age  Graduated  Profession  Work_Experience  \\\n",
       "5015       1             2  0.242424          2       0.375         0.000000   \n",
       "5755       1             2  0.954545          2       0.250         0.071429   \n",
       "7781       2             1  0.363636          2       0.000         0.571429   \n",
       "4518       2             2  0.515152          2       0.875         0.000000   \n",
       "6195       1             1  0.151515          1       0.000         0.000000   \n",
       "\n",
       "      Spending_Score  Family_Size     Var_1  \n",
       "5015             0.0        0.375  0.166667  \n",
       "5755             1.0        0.375  0.166667  \n",
       "7781             0.0        0.125  0.166667  \n",
       "4518             0.0        0.250  0.500000  \n",
       "6195             0.0        0.500  0.000000  "
      ]
     },
     "execution_count": 214,
     "metadata": {},
     "output_type": "execute_result"
    }
   ],
   "source": [
    "# Declare feature vector and target variable\n",
    "X = df.drop(['ID','Segmentation'], axis=1)\n",
    "\n",
    "y = df['Segmentation']\n",
    "\n",
    "# split X and y into training and testing sets\n",
    "from sklearn.model_selection import train_test_split\n",
    "\n",
    "X_train, X_test, y_train, y_test = train_test_split(X, y, test_size = 0.30, random_state = 42)\n",
    "\n",
    "# check the shape of X and Y\n",
    "X_train.shape, X_test.shape\n",
    "\n",
    "X_train.head()"
   ]
  },
  {
   "cell_type": "code",
   "execution_count": 215,
   "id": "8eec9e96-742c-450f-bbc8-65f0cb8de8fe",
   "metadata": {},
   "outputs": [
    {
     "data": {
      "text/html": [
       "<div>\n",
       "<style scoped>\n",
       "    .dataframe tbody tr th:only-of-type {\n",
       "        vertical-align: middle;\n",
       "    }\n",
       "\n",
       "    .dataframe tbody tr th {\n",
       "        vertical-align: top;\n",
       "    }\n",
       "\n",
       "    .dataframe thead th {\n",
       "        text-align: right;\n",
       "    }\n",
       "</style>\n",
       "<table border=\"1\" class=\"dataframe\">\n",
       "  <thead>\n",
       "    <tr style=\"text-align: right;\">\n",
       "      <th></th>\n",
       "      <th>Gender</th>\n",
       "      <th>Ever_Married</th>\n",
       "      <th>Age</th>\n",
       "      <th>Graduated</th>\n",
       "      <th>Profession</th>\n",
       "      <th>Work_Experience</th>\n",
       "      <th>Spending_Score</th>\n",
       "      <th>Family_Size</th>\n",
       "      <th>Var_1</th>\n",
       "    </tr>\n",
       "  </thead>\n",
       "  <tbody>\n",
       "    <tr>\n",
       "      <th>742</th>\n",
       "      <td>1</td>\n",
       "      <td>1</td>\n",
       "      <td>0.363636</td>\n",
       "      <td>2</td>\n",
       "      <td>0.375</td>\n",
       "      <td>0.000000</td>\n",
       "      <td>0.0</td>\n",
       "      <td>0.125</td>\n",
       "      <td>0.000000</td>\n",
       "    </tr>\n",
       "    <tr>\n",
       "      <th>2127</th>\n",
       "      <td>2</td>\n",
       "      <td>2</td>\n",
       "      <td>0.393939</td>\n",
       "      <td>2</td>\n",
       "      <td>0.375</td>\n",
       "      <td>0.071429</td>\n",
       "      <td>0.5</td>\n",
       "      <td>0.375</td>\n",
       "      <td>0.166667</td>\n",
       "    </tr>\n",
       "    <tr>\n",
       "      <th>2107</th>\n",
       "      <td>1</td>\n",
       "      <td>1</td>\n",
       "      <td>0.787879</td>\n",
       "      <td>2</td>\n",
       "      <td>0.000</td>\n",
       "      <td>0.142857</td>\n",
       "      <td>0.0</td>\n",
       "      <td>0.625</td>\n",
       "      <td>0.833333</td>\n",
       "    </tr>\n",
       "    <tr>\n",
       "      <th>2943</th>\n",
       "      <td>1</td>\n",
       "      <td>2</td>\n",
       "      <td>0.530303</td>\n",
       "      <td>2</td>\n",
       "      <td>0.375</td>\n",
       "      <td>0.000000</td>\n",
       "      <td>0.5</td>\n",
       "      <td>0.000</td>\n",
       "      <td>0.166667</td>\n",
       "    </tr>\n",
       "    <tr>\n",
       "      <th>4362</th>\n",
       "      <td>2</td>\n",
       "      <td>1</td>\n",
       "      <td>0.151515</td>\n",
       "      <td>1</td>\n",
       "      <td>0.375</td>\n",
       "      <td>0.000000</td>\n",
       "      <td>0.0</td>\n",
       "      <td>0.625</td>\n",
       "      <td>0.166667</td>\n",
       "    </tr>\n",
       "  </tbody>\n",
       "</table>\n",
       "</div>"
      ],
      "text/plain": [
       "      Gender  Ever_Married       Age  Graduated  Profession  Work_Experience  \\\n",
       "742        1             1  0.363636          2       0.375         0.000000   \n",
       "2127       2             2  0.393939          2       0.375         0.071429   \n",
       "2107       1             1  0.787879          2       0.000         0.142857   \n",
       "2943       1             2  0.530303          2       0.375         0.000000   \n",
       "4362       2             1  0.151515          1       0.375         0.000000   \n",
       "\n",
       "      Spending_Score  Family_Size     Var_1  \n",
       "742              0.0        0.125  0.000000  \n",
       "2127             0.5        0.375  0.166667  \n",
       "2107             0.0        0.625  0.833333  \n",
       "2943             0.5        0.000  0.166667  \n",
       "4362             0.0        0.625  0.166667  "
      ]
     },
     "execution_count": 215,
     "metadata": {},
     "output_type": "execute_result"
    }
   ],
   "source": [
    "X_test.head()"
   ]
  },
  {
   "cell_type": "code",
   "execution_count": 219,
   "id": "7460d31a-1dca-45c9-8108-53ac0e266a36",
   "metadata": {},
   "outputs": [
    {
     "data": {
      "image/png": "[encoded data removed]",
      "text/plain": [
       "<Figure size 432x288 with 1 Axes>"
      ]
     },
     "metadata": {
      "needs_background": "light"
     },
     "output_type": "display_data"
    }
   ],
   "source": [
    "model = DecisionTreeRegressor()\n",
    "model.fit(X_train, y_train)\n",
    "importance = model.feature_importances_\n",
    "\n",
    "# plot feature importance\n",
    "plt.bar([x for x in range(len(importance))], importance)\n",
    "plt.show()"
   ]
  },
  {
   "cell_type": "markdown",
   "id": "ca625ff5-6236-416a-960e-08d8ef348e98",
   "metadata": {},
   "source": [
    "## Decision Tree"
   ]
  },
  {
   "cell_type": "code",
   "execution_count": 240,
   "id": "182d928c-a7a1-46a4-885e-c47421a2d90b",
   "metadata": {},
   "outputs": [
    {
     "name": "stdout",
     "output_type": "stream",
     "text": [
      "Model accuracy score with criterion gini index: 0.4948\n"
     ]
    }
   ],
   "source": [
    "# instantiate the DecisionTreeClassifier model with criterion gini index\n",
    "\n",
    "clf_gini = DecisionTreeClassifier(criterion='gini', max_depth=6, random_state=4)\n",
    "\n",
    "\n",
    "# fit the model\n",
    "clf_gini.fit(X_train, y_train)\n",
    "\n",
    "y_pred_gini = clf_gini.predict(X_test)\n",
    "\n",
    "from sklearn.metrics import accuracy_score\n",
    "\n",
    "print('Model accuracy score with criterion gini index: {0:0.4f}'. format(accuracy_score(y_test, y_pred_gini)))"
   ]
  },
  {
   "cell_type": "code",
   "execution_count": 241,
   "id": "fd8670a2-dfd8-4733-a115-47400884749c",
   "metadata": {},
   "outputs": [
    {
     "data": {
      "text/plain": [
       "array([2, 4, 1, ..., 2, 3, 1])"
      ]
     },
     "execution_count": 241,
     "metadata": {},
     "output_type": "execute_result"
    }
   ],
   "source": [
    "y_pred_train_gini = clf_gini.predict(X_train)\n",
    "\n",
    "y_pred_train_gini"
   ]
  },
  {
   "cell_type": "code",
   "execution_count": 242,
   "id": "7f317a04-8e5a-4fe1-8a2a-1cf7cab076fd",
   "metadata": {},
   "outputs": [
    {
     "name": "stdout",
     "output_type": "stream",
     "text": [
      "Training-set accuracy score: 0.5104\n"
     ]
    }
   ],
   "source": [
    "print('Training-set accuracy score: {0:0.4f}'. format(accuracy_score(y_train, y_pred_train_gini)))"
   ]
  },
  {
   "cell_type": "code",
   "execution_count": 244,
   "id": "ec54fadb-8b53-4aa4-b8a5-80c2e84b3990",
   "metadata": {},
   "outputs": [
    {
     "data": {
      "text/plain": [
       "DecisionTreeClassifier(criterion='entropy', max_depth=6, random_state=0)"
      ]
     },
     "execution_count": 244,
     "metadata": {},
     "output_type": "execute_result"
    }
   ],
   "source": [
    "# instantiate the DecisionTreeClassifier model with criterion entropy\n",
    "\n",
    "clf_en = DecisionTreeClassifier(criterion='entropy', max_depth=6, random_state=0)\n",
    "\n",
    "\n",
    "# fit the model\n",
    "clf_en.fit(X_train, y_train)"
   ]
  },
  {
   "cell_type": "code",
   "execution_count": 245,
   "id": "cd59ce54-b150-41d3-8504-a46ebaa5b10c",
   "metadata": {},
   "outputs": [
    {
     "name": "stdout",
     "output_type": "stream",
     "text": [
      "Model accuracy score with criterion entropy: 0.4866\n",
      "[2 2 1 ... 2 3 1]\n",
      "Training-set accuracy score: 0.5116\n"
     ]
    }
   ],
   "source": [
    "y_pred_en = clf_en.predict(X_test)\n",
    "\n",
    "from sklearn.metrics import accuracy_score\n",
    "\n",
    "print('Model accuracy score with criterion entropy: {0:0.4f}'. format(accuracy_score(y_test, y_pred_en)))\n",
    "\n",
    "y_pred_train_en = clf_en.predict(X_train)\n",
    "\n",
    "print(y_pred_train_en)\n",
    "\n",
    "print('Training-set accuracy score: {0:0.4f}'. format(accuracy_score(y_train, y_pred_train_en)))"
   ]
  },
  {
   "cell_type": "code",
   "execution_count": 246,
   "id": "533ad129-fb85-4777-88a0-91c58d2636e9",
   "metadata": {},
   "outputs": [
    {
     "name": "stdout",
     "output_type": "stream",
     "text": [
      "Training set score: 0.5116\n",
      "Test set score: 0.4866\n"
     ]
    }
   ],
   "source": [
    "# print the scores on training and test set\n",
    "\n",
    "print('Training set score: {:.4f}'.format(clf_en.score(X_train, y_train)))\n",
    "\n",
    "print('Test set score: {:.4f}'.format(clf_en.score(X_test, y_test)))"
   ]
  },
  {
   "cell_type": "code",
   "execution_count": 247,
   "id": "facbbf14-8677-4584-985f-cc8ad443af1e",
   "metadata": {},
   "outputs": [
    {
     "name": "stdout",
     "output_type": "stream",
     "text": [
      "              precision    recall  f1-score   support\n",
      "\n",
      "           1       0.61      0.68      0.64       692\n",
      "           2       0.40      0.35      0.37       597\n",
      "           3       0.36      0.41      0.38       552\n",
      "           4       0.56      0.47      0.51       580\n",
      "\n",
      "    accuracy                           0.49      2421\n",
      "   macro avg       0.48      0.48      0.48      2421\n",
      "weighted avg       0.49      0.49      0.48      2421\n",
      "\n"
     ]
    }
   ],
   "source": [
    "from sklearn.metrics import classification_report\n",
    "\n",
    "print(classification_report(y_test, y_pred_en))"
   ]
  },
  {
   "cell_type": "markdown",
   "id": "d3eb4917-1131-466a-80b7-92e2fe71d85c",
   "metadata": {},
   "source": [
    "## K-means"
   ]
  },
  {
   "cell_type": "code",
   "execution_count": 248,
   "id": "1bcb11b5-8d7b-4469-af41-a458e98ff125",
   "metadata": {},
   "outputs": [
    {
     "data": {
      "image/png": "[encoded data removed]",
      "text/plain": [
       "<Figure size 1080x432 with 1 Axes>"
      ]
     },
     "metadata": {
      "needs_background": "light"
     },
     "output_type": "display_data"
    }
   ],
   "source": [
    "from sklearn.cluster import KMeans\n",
    "import warnings\n",
    "import os\n",
    "import numpy as np\n",
    "import matplotlib.pyplot as plt \n",
    "import plotly as py\n",
    "warnings.filterwarnings(\"ignore\")\n",
    "\n",
    "'''Age and spending Score'''\n",
    "X1 = df[['Age' , 'Spending_Score']].iloc[: , :].values\n",
    "inertia = []\n",
    "for n in range(1 , 11):\n",
    "    algorithm = (KMeans(n_clusters = n ,init='k-means++', n_init = 10 ,max_iter=300, \n",
    "                        tol=0.0001,  random_state= 111  , algorithm='elkan') )\n",
    "    algorithm.fit(X1)\n",
    "    inertia.append(algorithm.inertia_)\n",
    "    \n",
    "plt.figure(1 , figsize = (15 ,6))\n",
    "plt.plot(np.arange(1 , 11) , inertia , 'o')\n",
    "plt.plot(np.arange(1 , 11) , inertia , '-' , alpha = 0.5)\n",
    "plt.xlabel('Number of Clusters') , plt.ylabel('Inertia')\n",
    "plt.show()"
   ]
  },
  {
   "cell_type": "code",
   "execution_count": 252,
   "id": "658bf430-d746-477f-9d0d-4970668645b5",
   "metadata": {},
   "outputs": [
    {
     "data": {
      "text/plain": [
       "<matplotlib.collections.PathCollection at 0x7f35cbf12430>"
      ]
     },
     "execution_count": 252,
     "metadata": {},
     "output_type": "execute_result"
    },
    {
     "data": {
      "image/png": "[encoded data removed]",
      "text/plain": [
       "<Figure size 360x360 with 1 Axes>"
      ]
     },
     "metadata": {
      "needs_background": "light"
     },
     "output_type": "display_data"
    }
   ],
   "source": [
    "wcss=[]\n",
    "for i in range(1,10):\n",
    "    kmeans = KMeans(n_clusters= i, init='k-means++', random_state=0)\n",
    "    kmeans.fit(X_train.drop(columns=[\"Gender\",\"Spending_Score\"]))\n",
    "    wcss.append(kmeans.inertia_)\n",
    "\n",
    "f, ax  = plt.subplots(figsize = (5,5))\n",
    "\n",
    "kmeansmodel = KMeans(n_clusters= 4, init='k-means++',random_state=0)\n",
    "y_kmeans_train = kmeansmodel.fit_predict(X_train)\n",
    "\n",
    "plt.scatter(X_train.iloc[:,0], X_train.iloc[:,1], c=y_kmeans_train, alpha=0.7, s=40)"
   ]
  },
  {
   "cell_type": "code",
   "execution_count": 268,
   "id": "07e8ab8d-ab90-4d12-9879-c0e00d628531",
   "metadata": {},
   "outputs": [
    {
     "data": {
      "image/png": "[encoded data removed]",
      "text/plain": [
       "<Figure size 504x360 with 1 Axes>"
      ]
     },
     "metadata": {
      "needs_background": "light"
     },
     "output_type": "display_data"
    }
   ],
   "source": [
    "pca = PCA().fit(X_train.drop(columns=[\"Gender\",\"Spending_Score\"]))\n",
    "\n",
    "plt.figure(figsize=(7,5))\n",
    "plt.plot(np.cumsum(pca.explained_variance_ratio_), color='k', lw=2)\n",
    "plt.xlabel('Number of components')\n",
    "plt.ylabel('Total explained variance')\n",
    "plt.xlim(0, 11)\n",
    "plt.yticks(np.arange(0, 1.1, 0.1))\n",
    "plt.axvline(3.5, c='b')\n",
    "plt.axhline(0.85, c='r')\n",
    "plt.show();"
   ]
  },
  {
   "cell_type": "code",
   "execution_count": 263,
   "id": "b651c883-d2e2-4654-a737-6b82ebd50858",
   "metadata": {},
   "outputs": [
    {
     "data": {
      "image/png": "[encoded data removed]",
      "text/plain": [
       "<Figure size 720x720 with 2 Axes>"
      ]
     },
     "metadata": {
      "needs_background": "light"
     },
     "output_type": "display_data"
    }
   ],
   "source": [
    "pca = decomposition.PCA(n_components=2)\n",
    "X_reduced_train = pca.fit_transform(X_train.drop(columns=[\"Gender\",\"Spending_Score\"]))\n",
    "\n",
    "plt.figure(figsize=(10,10))\n",
    "plt.scatter(X_reduced_train[:, 0], X_reduced_train[:, 1], c=[1]*X_train.shape[0], \n",
    "            edgecolor='none', alpha=0.7, s=40,\n",
    "            cmap=plt.cm.get_cmap('nipy_spectral', 10))\n",
    "plt.colorbar()\n",
    "plt.title('MNIST. PCA projection');"
   ]
  },
  {
   "cell_type": "code",
   "execution_count": 266,
   "id": "a40d266f-dc54-451b-964f-29b4df4535d3",
   "metadata": {},
   "outputs": [
    {
     "data": {
      "text/plain": [
       "<matplotlib.collections.PathCollection at 0x7f35cbccb730>"
      ]
     },
     "execution_count": 266,
     "metadata": {},
     "output_type": "execute_result"
    },
    {
     "data": {
      "image/png": "[encoded data removed]",
      "text/plain": [
       "<Figure size 720x720 with 1 Axes>"
      ]
     },
     "metadata": {
      "needs_background": "light"
     },
     "output_type": "display_data"
    }
   ],
   "source": [
    "f, ax  = plt.subplots(figsize = (10,10))\n",
    "\n",
    "kmeansmodel = KMeans(n_clusters= 4, init='k-means++',random_state=0)\n",
    "y_kmeans_train = kmeansmodel.fit_predict(X_reduced_train)\n",
    "\n",
    "plt.scatter(X_reduced_train[:,0], X_reduced_train[:,1], c=y_kmeans_train, alpha=0.7, s=40)"
   ]
  }
 ],
 "metadata": {
  "kernelspec": {
   "display_name": "default:Python",
   "language": "python",
   "name": "conda-env-default-py"
  },
  "language_info": {
   "codemirror_mode": {
    "name": "ipython",
    "version": 3
   },
   "file_extension": ".py",
   "mimetype": "text/x-python",
   "name": "python",
   "nbconvert_exporter": "python",
   "pygments_lexer": "ipython3",
   "version": "3.9.7"
  }
 },
 "nbformat": 4,
 "nbformat_minor": 5
}
